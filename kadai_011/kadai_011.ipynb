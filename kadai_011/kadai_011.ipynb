{
 "cells": [
  {
   "cell_type": "code",
   "execution_count": 9,
   "metadata": {},
   "outputs": [
    {
     "name": "stdout",
     "output_type": "stream",
     "text": [
      "水\n",
      "金\n",
      "地\n",
      "火\n",
      "木\n",
      "土\n",
      "天\n",
      "海\n",
      "冥\n",
      "水\n",
      "金\n",
      "地\n",
      "火\n",
      "木\n",
      "土\n",
      "天\n",
      "海\n",
      "冥\n"
     ]
    }
   ],
   "source": [
    "array = [\"水\",\"金\",\"地\",\"火\",\"木\",\"土\",\"天\",\"海\",\"冥\"]\n",
    "\n",
    "# print(\"forループの出力\")\n",
    "for planet in array:\n",
    "    print(planet)\n",
    "\n",
    "# print(\"\\n\")\n",
    "# print(\"whileの出力\")\n",
    "i = 0\n",
    "while i < len(array):\n",
    "    print(array[i])\n",
    "    i += 1"
   ]
  },
  {
   "cell_type": "code",
   "execution_count": null,
   "metadata": {},
   "outputs": [],
   "source": []
  }
 ],
 "metadata": {
  "kernelspec": {
   "display_name": "Python 3",
   "language": "python",
   "name": "python3"
  },
  "language_info": {
   "codemirror_mode": {
    "name": "ipython",
    "version": 3
   },
   "file_extension": ".py",
   "mimetype": "text/x-python",
   "name": "python",
   "nbconvert_exporter": "python",
   "pygments_lexer": "ipython3",
   "version": "3.12.3"
  }
 },
 "nbformat": 4,
 "nbformat_minor": 2
}
