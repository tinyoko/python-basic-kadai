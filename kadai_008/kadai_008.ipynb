{
 "cells": [
  {
   "cell_type": "code",
   "execution_count": 1,
   "metadata": {},
   "outputs": [
    {
     "name": "stdout",
     "output_type": "stream",
     "text": [
      "入力しした整数は3です\n"
     ]
    }
   ],
   "source": [
    "a = input(\"整数を入力して！\")\n",
    "print(f\"入力しした整数は{a}です\")\n"
   ]
  },
  {
   "cell_type": "code",
   "execution_count": 8,
   "metadata": {},
   "outputs": [
    {
     "name": "stdout",
     "output_type": "stream",
     "text": [
      "0\n"
     ]
    }
   ],
   "source": [
    "var = 3\n",
    "print(var % 3)"
   ]
  },
  {
   "cell_type": "code",
   "execution_count": 14,
   "metadata": {},
   "outputs": [
    {
     "name": "stdout",
     "output_type": "stream",
     "text": [
      "入力しした整数は14です\n",
      "\n",
      "14\n"
     ]
    }
   ],
   "source": [
    "var = int(input(\"整数を入力して！\"))\n",
    "print(f\"入力しした整数は{var}です\\n\")\n",
    "\n",
    "if (var % 3 == 0) and (var % 5 == 0):\n",
    "    print(\"FizzBuzz\")\n",
    "elif var % 3 == 0:\n",
    "    print(\"Fizz\")\n",
    "elif var % 5 == 0:\n",
    "    print(\"Buzz\")\n",
    "else:\n",
    "    print(var) "
   ]
  },
  {
   "cell_type": "code",
   "execution_count": null,
   "metadata": {},
   "outputs": [],
   "source": []
  }
 ],
 "metadata": {
  "kernelspec": {
   "display_name": "Python 3",
   "language": "python",
   "name": "python3"
  },
  "language_info": {
   "codemirror_mode": {
    "name": "ipython",
    "version": 3
   },
   "file_extension": ".py",
   "mimetype": "text/x-python",
   "name": "python",
   "nbconvert_exporter": "python",
   "pygments_lexer": "ipython3",
   "version": "3.12.3"
  }
 },
 "nbformat": 4,
 "nbformat_minor": 2
}
