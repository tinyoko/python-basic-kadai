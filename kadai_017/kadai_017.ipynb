{
 "cells": [
  {
   "cell_type": "code",
   "execution_count": 2,
   "metadata": {},
   "outputs": [
    {
     "name": "stdout",
     "output_type": "stream",
     "text": [
      "磯野波平は、52歳なので、大人です\n",
      "フグ田タラオは、2歳なので、20歳以上ではないので、大人ではないです\n"
     ]
    }
   ],
   "source": [
    "class Human:\n",
    "    def __init__(self, name, age) :\n",
    "        self.name = name\n",
    "        self.age = age\n",
    "\n",
    "    def check_adult(self):\n",
    "        if self.age >= 20:\n",
    "            print(f\"{self.name}は、{self.age}歳なので、大人です\")\n",
    "        else:\n",
    "            print(f\"{self.name}は、{self.age}歳なので、20歳以上ではないので、大人ではないです\")\n",
    "    \n",
    "namihei = Human(\"磯野波平\", 52)\n",
    "tara = Human(\"フグ田タラオ\", 2)\n",
    "\n",
    "namihei.check_adult()\n",
    "tara.check_adult()"
   ]
  },
  {
   "cell_type": "code",
   "execution_count": null,
   "metadata": {},
   "outputs": [],
   "source": []
  }
 ],
 "metadata": {
  "kernelspec": {
   "display_name": "Python 3",
   "language": "python",
   "name": "python3"
  },
  "language_info": {
   "codemirror_mode": {
    "name": "ipython",
    "version": 3
   },
   "file_extension": ".py",
   "mimetype": "text/x-python",
   "name": "python",
   "nbconvert_exporter": "python",
   "pygments_lexer": "ipython3",
   "version": "3.12.3"
  }
 },
 "nbformat": 4,
 "nbformat_minor": 2
}
