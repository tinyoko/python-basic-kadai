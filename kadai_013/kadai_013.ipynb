{
 "cells": [
  {
   "cell_type": "code",
   "execution_count": 8,
   "metadata": {},
   "outputs": [
    {
     "name": "stdout",
     "output_type": "stream",
     "text": [
      "支払い総額は 1100.0円 です。\n"
     ]
    }
   ],
   "source": [
    "price = float(input('商品の金額（円）を入力してください'))\n",
    "tax = float(input('消費税率(%)を入力してください'))\n",
    "\n",
    "def payment(price: float, tax: float) -> float:\n",
    "    return price * (1 + (tax / 100))\n",
    "\n",
    "print(f\"支払い総額は {payment(price, tax)}円 です。\")\n",
    "# print(f\"支払い総額は{int(payment(price, tax))}です。ただし１円未満の端数は切り下げです。\")"
   ]
  },
  {
   "cell_type": "code",
   "execution_count": null,
   "metadata": {},
   "outputs": [],
   "source": []
  }
 ],
 "metadata": {
  "kernelspec": {
   "display_name": "Python 3",
   "language": "python",
   "name": "python3"
  },
  "language_info": {
   "codemirror_mode": {
    "name": "ipython",
    "version": 3
   },
   "file_extension": ".py",
   "mimetype": "text/x-python",
   "name": "python",
   "nbconvert_exporter": "python",
   "pygments_lexer": "ipython3",
   "version": "3.12.3"
  }
 },
 "nbformat": 4,
 "nbformat_minor": 2
}
